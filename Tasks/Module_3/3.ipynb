{
  "nbformat": 4,
  "nbformat_minor": 0,
  "metadata": {
    "colab": {
      "provenance": [],
      "authorship_tag": "ABX9TyObnO+cfsI7VefsTh7v1OMW",
      "include_colab_link": true
    },
    "kernelspec": {
      "name": "python3",
      "display_name": "Python 3"
    },
    "language_info": {
      "name": "python"
    }
  },
  "cells": [
    {
      "cell_type": "markdown",
      "metadata": {
        "id": "view-in-github",
        "colab_type": "text"
      },
      "source": [
        "<a href=\"https://colab.research.google.com/github/alexmordashov/sfdga/blob/main/tasks/module3/3.ipynb\" target=\"_parent\"><img src=\"https://colab.research.google.com/assets/colab-badge.svg\" alt=\"Open In Colab\"/></a>"
      ]
    },
    {
      "cell_type": "code",
      "execution_count": 52,
      "metadata": {
        "colab": {
          "base_uri": "https://localhost:8080/"
        },
        "id": "Wz_WZOEp1L3h",
        "outputId": "83c86294-d0de-4535-f74e-4be5e04da164"
      },
      "outputs": [
        {
          "output_type": "stream",
          "name": "stdout",
          "text": [
            "confort\n",
            "3\n"
          ]
        }
      ],
      "source": [
        "a = input()\n",
        "arr = []\n",
        "for i in range(len(a)):\n",
        "  if a[i] == 'f':\n",
        "    arr.append(i)\n",
        "if len(arr) == 0:\n",
        "  print(-1)\n",
        "elif len(arr) == 1:\n",
        "  print(arr[0])\n",
        "else:\n",
        "  print(arr[0], arr[-1])\n"
      ]
    }
  ]
}