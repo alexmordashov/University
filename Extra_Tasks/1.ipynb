{
  "nbformat": 4,
  "nbformat_minor": 0,
  "metadata": {
    "colab": {
      "provenance": [],
      "authorship_tag": "ABX9TyMC3rG1mLzuwZRAIZBTC6T4",
      "include_colab_link": true
    },
    "kernelspec": {
      "name": "python3",
      "display_name": "Python 3"
    },
    "language_info": {
      "name": "python"
    }
  },
  "cells": [
    {
      "cell_type": "markdown",
      "metadata": {
        "id": "view-in-github",
        "colab_type": "text"
      },
      "source": [
        "<a href=\"https://colab.research.google.com/github/alexmordashov/sfdga/blob/main/tasks/%D0%94%D0%BE%D0%BF.%D0%B7%D0%B0%D0%B4%D0%B0%D0%BD%D0%B8%D1%8F/1.ipynb\" target=\"_parent\"><img src=\"https://colab.research.google.com/assets/colab-badge.svg\" alt=\"Open In Colab\"/></a>"
      ]
    },
    {
      "cell_type": "code",
      "execution_count": 5,
      "metadata": {
        "colab": {
          "base_uri": "https://localhost:8080/"
        },
        "id": "UVIvisNjADJA",
        "outputId": "0ee1d730-b4c1-4b63-ff64-c59948757731"
      },
      "outputs": [
        {
          "name": "stdout",
          "output_type": "stream",
          "text": [
            "Компьютер загадал число 96\n",
            "345\n",
            "Ваше число больше\n",
            "24\n",
            "Ваше число меньше\n",
            "Выход\n"
          ]
        }
      ],
      "source": [
        "import random\n",
        "a = random.randint(0, 101)\n",
        "print(f'Компьютер загадал число {a}')\n",
        "k = 1\n",
        "c = 1\n",
        "while k:\n",
        "  b = input()\n",
        "  if b == 'Выход':\n",
        "    k = 0\n",
        "  elif a == int(b):\n",
        "    k = 0\n",
        "    print(f'Вы угадали с {c} попытки')\n",
        "  else:\n",
        "    if int(b) > a:\n",
        "      print('Ваше число больше')\n",
        "      c += 1\n",
        "    else:\n",
        "      print('Ваше число меньше')\n",
        "      c += 1"
      ]
    },
    {
      "cell_type": "code",
      "source": [],
      "metadata": {
        "id": "hQjbm7HZBYoU"
      },
      "execution_count": null,
      "outputs": []
    }
  ]
}