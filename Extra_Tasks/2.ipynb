{
  "nbformat": 4,
  "nbformat_minor": 0,
  "metadata": {
    "colab": {
      "provenance": [],
      "authorship_tag": "ABX9TyNSVZFYStvcpE54SKWSkZB6",
      "include_colab_link": true
    },
    "kernelspec": {
      "name": "python3",
      "display_name": "Python 3"
    },
    "language_info": {
      "name": "python"
    }
  },
  "cells": [
    {
      "cell_type": "markdown",
      "metadata": {
        "id": "view-in-github",
        "colab_type": "text"
      },
      "source": [
        "<a href=\"https://colab.research.google.com/github/alexmordashov/University/blob/main/Extra_Tasks/2.ipynb\" target=\"_parent\"><img src=\"https://colab.research.google.com/assets/colab-badge.svg\" alt=\"Open In Colab\"/></a>"
      ]
    },
    {
      "cell_type": "code",
      "execution_count": 2,
      "metadata": {
        "id": "2LkItTOEMgdZ"
      },
      "outputs": [],
      "source": [
        "def addContact():\n",
        "  pass\n",
        "def delContact():\n",
        "  pass\n",
        "def lookBook():\n",
        "  pass\n",
        "def changeNumber():\n",
        "  pass\n",
        "\n",
        "\n",
        "a = int(input(\"\"\"\n",
        "1. Добавить контакт\n",
        "2. Удалить контакт (по имени)\n",
        "3. Просмотреть телефонную книгу\n",
        "4. Изменить номер телефона (по имени)\"\"\"))"
      ]
    },
    {
      "cell_type": "code",
      "source": [],
      "metadata": {
        "id": "bfPH6ccjM_aK"
      },
      "execution_count": null,
      "outputs": []
    }
  ]
}