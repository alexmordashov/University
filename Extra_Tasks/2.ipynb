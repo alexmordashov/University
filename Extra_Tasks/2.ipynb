{
  "nbformat": 4,
  "nbformat_minor": 0,
  "metadata": {
    "colab": {
      "provenance": [],
      "authorship_tag": "ABX9TyOPLdBXbxWqbpFQVYjFMeEi",
      "include_colab_link": true
    },
    "kernelspec": {
      "name": "python3",
      "display_name": "Python 3"
    },
    "language_info": {
      "name": "python"
    }
  },
  "cells": [
    {
      "cell_type": "markdown",
      "metadata": {
        "id": "view-in-github",
        "colab_type": "text"
      },
      "source": [
        "<a href=\"https://colab.research.google.com/github/alexmordashov/University/blob/main/Extra_Tasks/2.ipynb\" target=\"_parent\"><img src=\"https://colab.research.google.com/assets/colab-badge.svg\" alt=\"Open In Colab\"/></a>"
      ]
    },
    {
      "cell_type": "code",
      "execution_count": null,
      "metadata": {
        "id": "2LkItTOEMgdZ"
      },
      "outputs": [],
      "source": [
        "def enterName(name):\n",
        "  arr_name = name.split()\n",
        "  arr_name[0], arr_name[1] = arr_name[0].lower().capitalize(), arr_name[1].lower().capitalize()\n",
        "  return ' '.join(arr_name)\n",
        "def enterNumber(number):\n",
        "  if '-' in number:\n",
        "    arr_number = number.split('-')\n",
        "    number = ''.join(arr_number)\n",
        "  return f'+7{number[-10:]}'\n",
        "def addContact():\n",
        "  numberbook[enterName(input('Введите имя: '))] = enterNumber(input('Введите номер: '))\n",
        "def delContact():\n",
        "  del numberbook[enterName(input('Введите имя: '))]\n",
        "def lookBook():\n",
        "  for i, j in numberbook.items():\n",
        "    print(f'{i}: {j}')\n",
        "def changeNumber():\n",
        "  numberbook[enterName(input('Введите имя: '))] = enterNumber(input('Введите номер: '))\n",
        "\n",
        "\n",
        "numberbook = {}\n",
        "while True:\n",
        "  a = input(\"\"\"\n",
        "  1. Добавить контакт\n",
        "  2. Удалить контакт (по имени)\n",
        "  3. Просмотреть телефонную книгу\n",
        "  4. Изменить номер телефона (по имени)\n",
        "  5. Завершить программу\n",
        "  \"\"\")\n",
        "  if a == '1':\n",
        "    addContact()\n",
        "  elif a == '2':\n",
        "    delContact()\n",
        "  elif a == '3':\n",
        "    lookBook()\n",
        "  elif a == '4':\n",
        "    changeNumber()\n",
        "  elif a == '5':\n",
        "    break"
      ]
    },
    {
      "cell_type": "code",
      "source": [],
      "metadata": {
        "id": "bfPH6ccjM_aK"
      },
      "execution_count": null,
      "outputs": []
    }
  ]
}