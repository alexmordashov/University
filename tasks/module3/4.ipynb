{
  "nbformat": 4,
  "nbformat_minor": 0,
  "metadata": {
    "colab": {
      "provenance": [],
      "authorship_tag": "ABX9TyMn4HyeCqCR2fPgMVESc26x",
      "include_colab_link": true
    },
    "kernelspec": {
      "name": "python3",
      "display_name": "Python 3"
    },
    "language_info": {
      "name": "python"
    }
  },
  "cells": [
    {
      "cell_type": "markdown",
      "metadata": {
        "id": "view-in-github",
        "colab_type": "text"
      },
      "source": [
        "<a href=\"https://colab.research.google.com/github/alexmordashov/sfdga/blob/main/tasks/module3/4.ipynb\" target=\"_parent\"><img src=\"https://colab.research.google.com/assets/colab-badge.svg\" alt=\"Open In Colab\"/></a>"
      ]
    },
    {
      "cell_type": "code",
      "execution_count": 70,
      "metadata": {
        "colab": {
          "base_uri": "https://localhost:8080/"
        },
        "id": "Wz_WZOEp1L3h",
        "outputId": "8c33d223-3392-4f39-f9cd-96425622da62"
      },
      "outputs": [
        {
          "output_type": "stream",
          "name": "stdout",
          "text": [
            "1+1=2\n",
            "one+one=2\n"
          ]
        }
      ],
      "source": [
        "a = input()\n",
        "str = ''\n",
        "for i in range(len(a)):\n",
        "  if a[i] != '1':\n",
        "    str += a[i]\n",
        "  else:\n",
        "    if i == 0:\n",
        "      if a[i + 1] not in '1234567890':\n",
        "        str += 'one'\n",
        "      else:\n",
        "        str += '1'\n",
        "    elif i == len(a) - 1:\n",
        "      if a[i - 1] not in '1234567890':\n",
        "        str += 'one'\n",
        "      else:\n",
        "        str += '1'\n",
        "    else:\n",
        "      if a[i + 1] not in '1234567890' and a[i - 1] not in '1234567890':\n",
        "        str += 'one'\n",
        "      else:\n",
        "        str += '1'\n",
        "print(str)\n",
        "\n"
      ]
    },
    {
      "cell_type": "code",
      "source": [],
      "metadata": {
        "id": "1Xsadz9wODBR"
      },
      "execution_count": null,
      "outputs": []
    }
  ]
}