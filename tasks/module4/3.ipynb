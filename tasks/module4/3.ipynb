{
  "nbformat": 4,
  "nbformat_minor": 0,
  "metadata": {
    "colab": {
      "provenance": [],
      "authorship_tag": "ABX9TyNKWzlpxSi3tUV9jEtOyP/v",
      "include_colab_link": true
    },
    "kernelspec": {
      "name": "python3",
      "display_name": "Python 3"
    },
    "language_info": {
      "name": "python"
    }
  },
  "cells": [
    {
      "cell_type": "markdown",
      "metadata": {
        "id": "view-in-github",
        "colab_type": "text"
      },
      "source": [
        "<a href=\"https://colab.research.google.com/github/alexmordashov/sfdga/blob/main/tasks/module4/3.ipynb\" target=\"_parent\"><img src=\"https://colab.research.google.com/assets/colab-badge.svg\" alt=\"Open In Colab\"/></a>"
      ]
    },
    {
      "cell_type": "code",
      "execution_count": 17,
      "metadata": {
        "colab": {
          "base_uri": "https://localhost:8080/"
        },
        "id": "Atc0YAhZTePb",
        "outputId": "963d834d-bce5-4920-995c-5dcae24a9412"
      },
      "outputs": [
        {
          "output_type": "stream",
          "name": "stdout",
          "text": [
            "179\n",
            "1\n"
          ]
        }
      ],
      "source": [
        "a = int(input())\n",
        "if a > 0:\n",
        "  print(1)\n",
        "elif a < 0:\n",
        "  print(-1)\n",
        "else:\n",
        "  print(0)"
      ]
    },
    {
      "cell_type": "code",
      "source": [],
      "metadata": {
        "id": "GAxkdiyCWBR6"
      },
      "execution_count": null,
      "outputs": []
    }
  ]
}