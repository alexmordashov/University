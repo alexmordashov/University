{
  "cells": [
    {
      "cell_type": "markdown",
      "metadata": {
        "id": "view-in-github",
        "colab_type": "text"
      },
      "source": [
        "<a href=\"https://colab.research.google.com/github/alexmordashov/sfdga/blob/main/tasks/module4/12.ipynb\" target=\"_parent\"><img src=\"https://colab.research.google.com/assets/colab-badge.svg\" alt=\"Open In Colab\"/></a>"
      ]
    },
    {
      "cell_type": "code",
      "execution_count": 79,
      "metadata": {
        "colab": {
          "base_uri": "https://localhost:8080/"
        },
        "id": "Atc0YAhZTePb",
        "outputId": "c7365004-77a8-4f49-e5fd-b6be8e0b8c45"
      },
      "outputs": [
        {
          "output_type": "stream",
          "name": "stdout",
          "text": [
            "3\n",
            "30\n",
            "31-3-2023\n"
          ]
        }
      ],
      "source": [
        "month = int(input())\n",
        "day = int(input())\n",
        "year = 2023\n",
        "if month == 2:\n",
        "  if day == 28:\n",
        "    day = 1\n",
        "    month = 3\n",
        "  else:\n",
        "    day += 1\n",
        "elif month == 12:\n",
        "  if day == 31:\n",
        "    day = 1\n",
        "    month = 1\n",
        "    year += 1\n",
        "  else:\n",
        "    day += 1\n",
        "elif month <= 7 and month % 2 != 0 or month >= 8 and month % 2 == 0:\n",
        "  if day == 31:\n",
        "    day = 1\n",
        "    month += 1\n",
        "  else:\n",
        "    day += 1\n",
        "elif not(month <= 7 and month % 2 != 0 or month >= 8 and month % 2 == 0):\n",
        "  if day == 30:\n",
        "    day = 1\n",
        "    month += 1\n",
        "  else:\n",
        "    day += 1\n",
        "print(f'{day}-{month}-{year}')"
      ]
    },
    {
      "cell_type": "code",
      "execution_count": null,
      "metadata": {
        "id": "GAxkdiyCWBR6"
      },
      "outputs": [],
      "source": []
    }
  ],
  "metadata": {
    "colab": {
      "provenance": [],
      "authorship_tag": "ABX9TyMAN+/HxObQlD8ryomsAtki",
      "include_colab_link": true
    },
    "kernelspec": {
      "display_name": "Python 3",
      "name": "python3"
    },
    "language_info": {
      "name": "python"
    }
  },
  "nbformat": 4,
  "nbformat_minor": 0
}