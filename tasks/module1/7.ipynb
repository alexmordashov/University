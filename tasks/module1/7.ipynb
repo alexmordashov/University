{
  "nbformat": 4,
  "nbformat_minor": 0,
  "metadata": {
    "colab": {
      "provenance": [],
      "authorship_tag": "ABX9TyObULOKIWm+r3XmUvt0tBWV",
      "include_colab_link": true
    },
    "kernelspec": {
      "name": "python3",
      "display_name": "Python 3"
    },
    "language_info": {
      "name": "python"
    }
  },
  "cells": [
    {
      "cell_type": "markdown",
      "metadata": {
        "id": "view-in-github",
        "colab_type": "text"
      },
      "source": [
        "<a href=\"https://colab.research.google.com/github/alexmordashov/sfdga/blob/main/tasks/module1/7.ipynb\" target=\"_parent\"><img src=\"https://colab.research.google.com/assets/colab-badge.svg\" alt=\"Open In Colab\"/></a>"
      ]
    },
    {
      "cell_type": "code",
      "execution_count": 63,
      "metadata": {
        "colab": {
          "base_uri": "https://localhost:8080/"
        },
        "id": "Wz_WZOEp1L3h",
        "outputId": "618e3d1e-2f50-4c37-a0df-1e70de190d6f"
      },
      "outputs": [
        {
          "output_type": "stream",
          "name": "stdout",
          "text": [
            "1\n",
            "2\n",
            "30\n",
            "1\n",
            "3\n",
            "20\n",
            "50\n"
          ]
        }
      ],
      "source": [
        "h1 = int(input())\n",
        "m1 = int(input())\n",
        "s1 = int(input())\n",
        "h2 = int(input())\n",
        "m2 = int(input())\n",
        "s2 = int(input())\n",
        "print(abs((h1*3600 + m1 * 60 + s1) - (h2*3600 + m2 * 60 + s2)))"
      ]
    }
  ]
}