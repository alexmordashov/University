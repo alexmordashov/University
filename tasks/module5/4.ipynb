{
  "cells": [
    {
      "cell_type": "markdown",
      "metadata": {
        "id": "view-in-github",
        "colab_type": "text"
      },
      "source": [
        "<a href=\"https://colab.research.google.com/github/alexmordashov/sfdga/blob/main/tasks/module5/4.ipynb\" target=\"_parent\"><img src=\"https://colab.research.google.com/assets/colab-badge.svg\" alt=\"Open In Colab\"/></a>"
      ]
    },
    {
      "cell_type": "code",
      "execution_count": 118,
      "metadata": {
        "colab": {
          "base_uri": "https://localhost:8080/"
        },
        "id": "Atc0YAhZTePb",
        "outputId": "a4f78ece-0db2-4571-9b03-97b24a9af25d"
      },
      "outputs": [
        {
          "output_type": "stream",
          "name": "stdout",
          "text": [
            "1\n",
            "2\n",
            "3\n",
            "4\n",
            "5\n",
            "0\n",
            "4\n"
          ]
        }
      ],
      "source": [
        "a = int(input())\n",
        "c = 0\n",
        "if a != 0:\n",
        "  while True:\n",
        "    b = int(input())\n",
        "    if b == 0:\n",
        "      break\n",
        "    if b > a:\n",
        "      c += 1\n",
        "    b = a\n",
        "print(c)"
      ]
    },
    {
      "cell_type": "code",
      "execution_count": null,
      "metadata": {
        "id": "GAxkdiyCWBR6"
      },
      "outputs": [],
      "source": []
    }
  ],
  "metadata": {
    "colab": {
      "provenance": [],
      "authorship_tag": "ABX9TyMuyQhl/ZgOOdbO8x5lk7zB",
      "include_colab_link": true
    },
    "kernelspec": {
      "display_name": "Python 3",
      "name": "python3"
    },
    "language_info": {
      "name": "python"
    }
  },
  "nbformat": 4,
  "nbformat_minor": 0
}